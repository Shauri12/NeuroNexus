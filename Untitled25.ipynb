{
 "cells": [
  {
   "cell_type": "code",
   "execution_count": 3,
   "id": "c6bd5b6b-474e-480d-840c-681a82c548ac",
   "metadata": {},
   "outputs": [
    {
     "name": "stdout",
     "output_type": "stream",
     "text": [
      "Model trained and predictions saved to 'titanic_predictions.csv'\n"
     ]
    }
   ],
   "source": [
    "import pandas as pd\n",
    "from sklearn.linear_model import LogisticRegression\n",
    "from sklearn.preprocessing import LabelEncoder\n",
    "from sklearn.metrics import accuracy_score\n",
    "from sklearn.model_selection import train_test_split\n",
    "\n",
    "# Load datasets\n",
    "train_df = pd.read_csv(\"tested.csv\")\n",
    "test_df = pd.read_csv(\"test.csv\")\n",
    "\n",
    "# Combine train and test to handle preprocessing uniformly (drop target for test)\n",
    "train_df['source'] = 'train'\n",
    "test_df['source'] = 'test'\n",
    "test_df['Survived'] = None  # Placeholder to keep columns consistent\n",
    "combined = pd.concat([train_df, test_df], ignore_index=True)\n",
    "\n",
    "# Basic preprocessing\n",
    "combined['Sex'] = LabelEncoder().fit_transform(combined['Sex'])\n",
    "combined['Embarked'] = combined['Embarked'].fillna('S')\n",
    "combined['Embarked'] = LabelEncoder().fit_transform(combined['Embarked'])\n",
    "combined['Age'] = combined['Age'].fillna(combined['Age'].median())\n",
    "combined['Fare'] = combined['Fare'].fillna(combined['Fare'].median())\n",
    "\n",
    "# Select features\n",
    "features = ['Pclass', 'Sex', 'Age', 'SibSp', 'Parch', 'Fare', 'Embarked']\n",
    "train_data = combined[combined['source'] == 'train']\n",
    "test_data = combined[combined['source'] == 'test']\n",
    "\n",
    "X_train = train_data[features]\n",
    "y_train = train_data['Survived'].astype(int)\n",
    "X_test = test_data[features]\n",
    "\n",
    "# Train model\n",
    "model = LogisticRegression(max_iter=200)\n",
    "model.fit(X_train, y_train)\n",
    "\n",
    "# Predict on test set\n",
    "test_predictions = model.predict(X_test)\n",
    "\n",
    "# Add predictions to test_df\n",
    "test_df['Survived'] = test_predictions.astype(int)\n",
    "\n",
    "# Save predictions\n",
    "test_df[['PassengerId', 'Survived']].to_csv(\"titanic_predictions.csv\", index=False)\n",
    "\n",
    "print(\"Model trained and predictions saved to 'titanic_predictions.csv'\")\n"
   ]
  },
  {
   "cell_type": "code",
   "execution_count": null,
   "id": "c0904bf2-80a4-4931-8d44-132416cef6f5",
   "metadata": {},
   "outputs": [],
   "source": []
  }
 ],
 "metadata": {
  "kernelspec": {
   "display_name": "Python 3 (ipykernel)",
   "language": "python",
   "name": "python3"
  },
  "language_info": {
   "codemirror_mode": {
    "name": "ipython",
    "version": 3
   },
   "file_extension": ".py",
   "mimetype": "text/x-python",
   "name": "python",
   "nbconvert_exporter": "python",
   "pygments_lexer": "ipython3",
   "version": "3.12.4"
  }
 },
 "nbformat": 4,
 "nbformat_minor": 5
}
